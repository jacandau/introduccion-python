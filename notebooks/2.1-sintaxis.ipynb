{
 "cells": [
  {
   "cell_type": "markdown",
   "metadata": {},
   "source": [
    "## Table of contents:\n",
    "* [2.1 Sintáxis de Python](#first-bullet)\n",
    ">* [2.1.1 Identificadores](#second-bullet)\n",
    ">* [2.1.2 Palabras reservadas](#third-bullet)\n",
    ">* [2.1.3 Empecemos](#fourth-bullet)\n",
    ">* [2.1.4 Sentencias, líneas e indentación](#fifth-bullet)\n",
    ">* [2.1.5 Sentencias multilínea](#sixth-bullet)\n",
    ">* [2.1.6 Comentarios](#seventh-bullet)\n",
    ">* [2.1.7 Entrada y salida](#eight-bullet)\n",
    ">* [2.1.8 Guía de estilo - PEP 8](#nineth-bullet)"
   ]
  },
  {
   "cell_type": "markdown",
   "metadata": {
    "id": "MRP7fEos_cEL"
   },
   "source": [
    "Ten en cuenta que estamos usando Python 3.7 (NO Python 2! Python 2 está muerto)\n",
    "\n",
    "Puedes abrir el cuaderno en google Colab o descargarlo y abrirlo con tu Jupyter. Prueba ambos y toca sin miedo, te prometemos que no se romperá."
   ]
  },
  {
   "cell_type": "markdown",
   "metadata": {
    "id": "N-7a3Xtt_cEV"
   },
   "source": [
    "# 2.1 Sintáxis de Python<a class=\"anchor\" id=\"first-bullet\"></a>\n",
    "El lenguaje Python tienes muchas similitudes con otros lenguajes de programación como Perl, C o Java. Sin embargo, como en todos los lenguajes, Python tiene su propia sintáxis que pasaremos a ver a continuación.\n",
    "\n",
    "## 2.1.1 Identificadores<a class=\"anchor\" id=\"second-bullet\"></a>\n",
    "Un identificador de Python es el nombre utilizado para identificar una variable, función, clase, módulo u otro objeto. Un identificador empieza con una letra de la A a la Z, ya sea mayúscula o minúscula, o guión bajo, seguida de cero o más letras, guiones bajos o números. Python no permite caracteres especiales en los identificadores tales como @, $ y %. Además, Python es un lenguaje de programación sensible a las mayúsculas y minúsculas, por lo que variable1 y Variable1 son dos variables diferentes para Python.\n",
    "\n",
    "## 2.1.2 Palabras reservadas<a class=\"anchor\" id=\"third-bullet\"></a>\n",
    "La siguiente lista son palabras reservadas de Python, por lo que no podrán ser utilizadas como nombres de una constante o variable o cualquier otro identificador.\n",
    "\n",
    "and\n",
    "as\n",
    "assert\n",
    "async\n",
    "await\n",
    "break\n",
    "class\n",
    "continue\n",
    "def\n",
    "del\n",
    "elif\n",
    "else\n",
    "except\n",
    "False\n",
    "finally\n",
    "for\n",
    "from\n",
    "global\n",
    "if\n",
    "import\n",
    "in\n",
    "is\n",
    "lambda\n",
    "None\n",
    "nonlocal\n",
    "not\n",
    "or\n",
    "pass\n",
    "raise\n",
    "return\n",
    "True\n",
    "try\n",
    "while\n",
    "with\n",
    "yield\n",
    "## 2.1.3 Empecemos<a class=\"anchor\" id=\"fourth-bullet\"></a>\n",
    "La primera línea al aprender un lenguaje siempre es escribir en pantalla un mensaje de bienvenida. No vamos a ser menos!\n",
    "\n",
    "print() muestra datos por pantalla."
   ]
  },
  {
   "cell_type": "code",
   "execution_count": null,
   "metadata": {
    "id": "KIrjx67O_cEY",
    "outputId": "c1e81335-8dbc-4e54-ec2f-674ce3d951f9"
   },
   "outputs": [],
   "source": [
    "print('Hello Capgemini!')"
   ]
  },
  {
   "cell_type": "markdown",
   "metadata": {
    "id": "rdSmOIyN_cEc"
   },
   "source": [
    "## 2.1.4 Sentencias, líneas e indentación<a class=\"anchor\" id=\"fifth-bullet\"></a>\n",
    "Python no utiliza llaves como otros lenguajes de programación para definir bloques de cógido, funciones, control de flujo o clases. Estos bloques se definen mediante la indentación, la cual se aplica de forma estricta.\n",
    "\n",
    "La cantidad de espacios en la indentación puede ser variable, pero todas las sentencias de un bloque deben tener el mismo número de espacios.\n",
    "\n",
    "A continuación vemos un ejemplo."
   ]
  },
  {
   "cell_type": "code",
   "execution_count": null,
   "metadata": {
    "id": "FUGQxVqq_cEd",
    "outputId": "3b93128b-dc92-425f-f703-10fca89684e7"
   },
   "outputs": [],
   "source": [
    "if True:\n",
    "  print(\"True\")\n",
    "else:\n",
    "  print(\"False\")"
   ]
  },
  {
   "cell_type": "markdown",
   "metadata": {
    "id": "8xcUIS7o_cEf"
   },
   "source": [
    "Sin embargo, si intentamos ejecutar el siguiente código, obtendremos un error."
   ]
  },
  {
   "cell_type": "code",
   "execution_count": null,
   "metadata": {
    "id": "S5yKRM2x_cEg",
    "outputId": "a2ace00f-10ee-431f-c0c8-c5542256ea89"
   },
   "outputs": [],
   "source": [
    "if True:\n",
    "print(\"True\")\n",
    "else:\n",
    "print(\"False\")"
   ]
  },
  {
   "cell_type": "markdown",
   "metadata": {
    "id": "jtJU3Bi2_cEi"
   },
   "source": [
    "## 2.1.5 Sentencias multilínea<a class=\"anchor\" id=\"sixth-bullet\"></a>\n",
    "Las sentencias en Python normalmente finalizan en una nueva línea. Sin embargo, también se permite el uso de varias líneas para una misma sentencia añadiendo al final de cada una de ellas el carácter \\\n",
    "\n",
    "A continuación vemos un ejemplo."
   ]
  },
  {
   "cell_type": "code",
   "execution_count": null,
   "metadata": {
    "id": "TiPZqQyr_cEj",
    "outputId": "63578d82-07f5-4b5b-9ab5-ed9e81287726"
   },
   "outputs": [],
   "source": [
    "var1 = var2 = var3 = 1\n",
    "total = var1 + \\\n",
    "        var2 + \\\n",
    "        var3\n",
    "print(total)"
   ]
  },
  {
   "cell_type": "markdown",
   "metadata": {
    "id": "P0n1GwZD_cEl"
   },
   "source": [
    "Hay una excepción que son las sentencias contenidas entre [], {} o (), en las que no es necesario el uso del caráter \\"
   ]
  },
  {
   "cell_type": "code",
   "execution_count": null,
   "metadata": {
    "id": "HlH0fo2s_cEm"
   },
   "outputs": [],
   "source": [
    "frutas = ['Manzana', 'Pera', 'Fresa',\n",
    "        'Melocotón', 'Kiwi']"
   ]
  },
  {
   "cell_type": "markdown",
   "metadata": {
    "id": "eRKhK7DT_cEn"
   },
   "source": [
    "## 2.1.6 Comentarios<a class=\"anchor\" id=\"seventh-bullet\"></a>\n",
    "El símbolo # que no esté dentro de una cadena, indica que empieza un comentario en el código. Estos comentarios son ignoradospor el intérprete y sólo servirán para comentar el código."
   ]
  },
  {
   "cell_type": "code",
   "execution_count": null,
   "metadata": {
    "id": "hECp2nzJ_cEo",
    "outputId": "8f910d07-c3d0-49b9-f6a8-7f62ebddd386"
   },
   "outputs": [],
   "source": [
    "# Mi primer comentario\n",
    "\n",
    "print(\"Hola Capgemini!\") # comentario después de una sentencia\n",
    "\n",
    "#Si ejecutas este código sólo verás Hola mundo!"
   ]
  },
  {
   "cell_type": "markdown",
   "metadata": {
    "id": "1Vjj4AjM_cEp"
   },
   "source": [
    "También se pueden hacer comentarios de varias líneas con triples comillas"
   ]
  },
  {
   "cell_type": "code",
   "execution_count": null,
   "metadata": {
    "id": "1QmHijcN_cEp",
    "outputId": "edc07c08-26ef-4685-e54c-6c6e69b9a782"
   },
   "outputs": [],
   "source": [
    "'''También se pueden hacer comentarios\n",
    "de varias líneas\n",
    "con triples comillas'''\n",
    "print(\"Hola Capgemini!\")"
   ]
  },
  {
   "cell_type": "markdown",
   "metadata": {
    "id": "l1DQW276_cEq"
   },
   "source": [
    "## 2.1.7 Entrada y salida<a class=\"anchor\" id=\"eight-bullet\"></a>\n",
    "Python proporciona varias funciones para interaccionar con el usuario a través de la pantalla y teclado. Las más conocidas son input() y print() que sirven para recoger datos desde el teclado y para mostrar datos por pantalla respectivamente.\n",
    "\n",
    "También se pueden mostrar por pantalla el valor de una o varias variables."
   ]
  },
  {
   "cell_type": "code",
   "execution_count": null,
   "metadata": {
    "id": "lQdVU3an_cEr",
    "outputId": "99721798-a30f-4273-981e-aff78b4a4284"
   },
   "outputs": [],
   "source": [
    "nombre = 'Leticia'\n",
    "print('Hola', nombre)"
   ]
  },
  {
   "cell_type": "markdown",
   "metadata": {
    "id": "6KLTzg3x_cEr"
   },
   "source": [
    "Se pueden utilizar separadores entre diferentes valores a representar con sep y mostrar una cadena al finalizar con end"
   ]
  },
  {
   "cell_type": "code",
   "execution_count": null,
   "metadata": {
    "id": "t5Rh92JD_cEr",
    "outputId": "78c8ef4b-d5ca-4122-92cf-b53481584f61"
   },
   "outputs": [],
   "source": [
    "nombre1, nombre2, nombre3 = 'Leticia', 'Antonio', 'Felipe'\n",
    "print(nombre1, nombre2, nombre3)\n",
    "print(nombre1, nombre2, nombre3, sep='-')\n",
    "print(nombre1, nombre2, nombre3, sep='-', end='-Fin')"
   ]
  },
  {
   "cell_type": "markdown",
   "metadata": {
    "id": "Yz4hfp8D_cEs"
   },
   "source": [
    "Se puede dar formato a la salida con la función format"
   ]
  },
  {
   "cell_type": "code",
   "execution_count": null,
   "metadata": {
    "id": "_OGavEfL_cEt",
    "outputId": "494b124a-c0c4-41eb-dfc0-a954545590da"
   },
   "outputs": [],
   "source": [
    "a, b = 3, 2\n",
    "print('La suma de {0} y {1} es {2}'.format(a, b, a + b))"
   ]
  },
  {
   "cell_type": "markdown",
   "metadata": {
    "id": "lH0YUgek_cEw"
   },
   "source": [
    "A partir de Python 3.6 tenemos las f strings que proporcionan una manera sencilla de representar variables y expresiones dentro de una cadena. Se representan como un literal entrecomillado precedido por f o F."
   ]
  },
  {
   "cell_type": "code",
   "execution_count": null,
   "metadata": {
    "id": "AigURVp4_cEw",
    "outputId": "d29fc5a4-d1ed-4347-8fb5-ab12cfe38a19"
   },
   "outputs": [],
   "source": [
    "nombre = 'Yolanda'\n",
    "print(f'Hola {nombre}')\n",
    "\n",
    "a, b = 3, 2\n",
    "print(f'La suma de {a} y {b} es {a+b}')"
   ]
  },
  {
   "cell_type": "markdown",
   "metadata": {
    "id": "3QzfTS1b_cEx"
   },
   "source": [
    "input() Hasta ahora, nuestro código es estático ya que el valor de las variables se definen en el código y el usuario no tiene la oportunidad de introducir valores. Con la función input() permitimos al usuario introducir valores y así hacer poder interaccionar con él."
   ]
  },
  {
   "cell_type": "code",
   "execution_count": null,
   "metadata": {
    "id": "KOjIzqm4_cEx"
   },
   "outputs": [],
   "source": [
    "edad = input('¿Qué edad tienes?')\n",
    "print(f'Tienes {edad} años')"
   ]
  },
  {
   "cell_type": "markdown",
   "metadata": {
    "id": "Mtmb624p_cEx"
   },
   "source": [
    "También pueden mostrarse valores de variables en el texto del input"
   ]
  },
  {
   "cell_type": "code",
   "execution_count": null,
   "metadata": {
    "id": "gAbN_8pk_cEy"
   },
   "outputs": [],
   "source": [
    "nombre = input('¿Cómo te llamas?')\n",
    "edad = input(f'¿Qué edad tienes, {nombre}?')\n",
    "print(f'Hola {nombre}. Tienes {edad} años')"
   ]
  },
  {
   "cell_type": "markdown",
   "metadata": {
    "id": "fqhZZ7Te_cEy"
   },
   "source": [
    "## 2.1.8 Guía de estilo - PEP 8<a class=\"anchor\" id=\"nineth-bullet\"></a>\n",
    "Aunque no es algo obligatorio, es muy recomendable seguir una guía de estilo para programar en cualquier lenguaje. En Python, la guía de estilo utilizada es PEP 8. En el siguiente enlace podéis encontrar una guía de estilo PEP 8 completa.\n",
    "\n",
    "https://www.python.org/dev/peps/pep-0008/"
   ]
  }
 ],
 "metadata": {
  "colab": {
   "collapsed_sections": [],
   "name": "Copia de 2.1-sintaxis.ipynb",
   "provenance": []
  },
  "kernelspec": {
   "display_name": "Python 3",
   "language": "python",
   "name": "python3"
  },
  "language_info": {
   "codemirror_mode": {
    "name": "ipython",
    "version": 3
   },
   "file_extension": ".py",
   "mimetype": "text/x-python",
   "name": "python",
   "nbconvert_exporter": "python",
   "pygments_lexer": "ipython3",
   "version": "3.8.5"
  }
 },
 "nbformat": 4,
 "nbformat_minor": 1
}
