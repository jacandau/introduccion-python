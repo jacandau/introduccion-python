{
 "cells": [
  {
   "cell_type": "markdown",
   "metadata": {},
   "source": [
    "Ten en cuenta que estamos usando Python 3.7 (NO Python 2! Python 2 está muerto)\n",
    "\n",
    "Puedes abrir el cuaderno en google Colab o descargarlo y abrirlo con tu Jupyter. Prueba ambos y toca sin miedo, te prometemos que no se romperá."
   ]
  },
  {
   "cell_type": "markdown",
   "metadata": {},
   "source": [
    "# 2.1 Sintáxis de Python\n",
    "El lenguaje Python tienes muchas similitudes con otros lenguajes de programación como Perl, C o Java. Sin embargo, como en todos los lenguajes, Python tiene su propia sintáxis que pasaremos a ver a continuación.\n",
    "\n",
    "## 2.1.1 Identificadores\n",
    "Un identificador de Python es el nombre utilizado para identificar una variable, función, clase, módulo u otro objeto. Un identificador empieza con una letra de la A a la Z, ya sea mayúscula o minúscula, o guión bajo, seguida de cero o más letras, guiones bajos o números. Python no permite caracteres especiales en los identificadores tales como @, $ y %. Además, Python es un lenguaje de programación sensible a las mayúsculas y minúsculas, por lo que variable1 y Variable1 son dos variables diferentes para Python.\n",
    "\n",
    "## 2.1.2 Palabras reservadas\n",
    "La siguiente lista son palabras reservadas de Python, por lo que no podrán ser utilizadas como nombres de una constante o variable o cualquier otro identificador.\n",
    "\n",
    "and\n",
    "as\n",
    "assert\n",
    "async\n",
    "await\n",
    "break\n",
    "class\n",
    "continue\n",
    "def\n",
    "del\n",
    "elif\n",
    "else\n",
    "except\n",
    "False\n",
    "finally\n",
    "for\n",
    "from\n",
    "global\n",
    "if\n",
    "import\n",
    "in\n",
    "is\n",
    "lambda\n",
    "None\n",
    "nonlocal\n",
    "not\n",
    "or\n",
    "pass\n",
    "raise\n",
    "return\n",
    "True\n",
    "try\n",
    "while\n",
    "with\n",
    "yield\n",
    "## 2.1.3 Empecemos\n",
    "La primera línea al aprender un lenguaje siempre es escribir en pantalla un mensaje de bienvenida. No vamos a ser menos!\n",
    "\n",
    "print() muestra datos por pantalla."
   ]
  },
  {
   "cell_type": "code",
   "execution_count": 1,
   "metadata": {},
   "outputs": [
    {
     "name": "stdout",
     "output_type": "stream",
     "text": [
      "Hello Capgemini!\n"
     ]
    }
   ],
   "source": [
    "print('Hello Capgemini!')"
   ]
  },
  {
   "cell_type": "markdown",
   "metadata": {},
   "source": [
    "## 2.1.4 Sentencias, líneas e indentación\n",
    "Python no utiliza llaves como otros lenguajes de programación para definir bloques de cógido, funciones, control de flujo o clases. Estos bloques se definen mediante la indentación, la cual se aplica de forma estricta.\n",
    "\n",
    "La cantidad de espacios en la indentación puede ser variable, pero todas las sentencias de un bloque deben tener el mismo número de espacios.\n",
    "\n",
    "A continuación vemos un ejemplo."
   ]
  },
  {
   "cell_type": "code",
   "execution_count": 2,
   "metadata": {},
   "outputs": [
    {
     "name": "stdout",
     "output_type": "stream",
     "text": [
      "True\n"
     ]
    }
   ],
   "source": [
    "if True:\n",
    "  print(\"True\")\n",
    "else:\n",
    "  print(\"False\")"
   ]
  },
  {
   "cell_type": "markdown",
   "metadata": {},
   "source": [
    "Sin embargo, si intentamos ejecutar el siguiente código, obtendremos un error."
   ]
  },
  {
   "cell_type": "code",
   "execution_count": 3,
   "metadata": {},
   "outputs": [
    {
     "ename": "IndentationError",
     "evalue": "expected an indented block (<ipython-input-3-1c0550ff8db5>, line 2)",
     "output_type": "error",
     "traceback": [
      "\u001b[1;36m  File \u001b[1;32m\"<ipython-input-3-1c0550ff8db5>\"\u001b[1;36m, line \u001b[1;32m2\u001b[0m\n\u001b[1;33m    print(\"True\")\u001b[0m\n\u001b[1;37m        ^\u001b[0m\n\u001b[1;31mIndentationError\u001b[0m\u001b[1;31m:\u001b[0m expected an indented block\n"
     ]
    }
   ],
   "source": [
    "if True:\n",
    "print(\"True\")\n",
    "else:\n",
    "print(\"False\")"
   ]
  },
  {
   "cell_type": "markdown",
   "metadata": {},
   "source": [
    "## 2.1.5 Sentencias multilínea\n",
    "Las sentencias en Python normalmente finalizan en una nueva línea. Sin embargo, también se permite el uso de varias líneas para una misma sentencia añadiendo al final de cada una de ellas el carácter \\\n",
    "\n",
    "A continuación vemos un ejemplo."
   ]
  },
  {
   "cell_type": "code",
   "execution_count": 4,
   "metadata": {},
   "outputs": [
    {
     "name": "stdout",
     "output_type": "stream",
     "text": [
      "3\n"
     ]
    }
   ],
   "source": [
    "var1 = var2 = var3 = 1\n",
    "total = var1 + \\\n",
    "        var2 + \\\n",
    "        var3\n",
    "print(total)"
   ]
  },
  {
   "cell_type": "markdown",
   "metadata": {},
   "source": [
    "Hay una excepción que son las sentencias contenidas entre [], {} o (), en las que no es necesario el uso del caráter \\"
   ]
  },
  {
   "cell_type": "code",
   "execution_count": 6,
   "metadata": {},
   "outputs": [],
   "source": [
    "frutas = ['Manzana', 'Pera', 'Fresa',\n",
    "        'Melocotón', 'Kiwi']"
   ]
  },
  {
   "cell_type": "markdown",
   "metadata": {},
   "source": [
    "## 2.1.5 Comentarios\n",
    "El símbolo # que no esté dentro de una cadena, indica que empieza un comentario en el código. Estos comentarios son ignoradospor el intérprete y sólo servirán para comentar el código."
   ]
  },
  {
   "cell_type": "code",
   "execution_count": 8,
   "metadata": {},
   "outputs": [
    {
     "name": "stdout",
     "output_type": "stream",
     "text": [
      "Hola Capgemini!\n"
     ]
    }
   ],
   "source": [
    "# Mi primer comentario\n",
    "\n",
    "print(\"Hola Capgemini!\") # comentario después de una sentencia\n",
    "\n",
    "#Si ejecutas este código sólo verás Hola mundo!"
   ]
  },
  {
   "cell_type": "markdown",
   "metadata": {},
   "source": [
    "También se pueden hacer comentarios de varias líneas con triples comillas"
   ]
  },
  {
   "cell_type": "code",
   "execution_count": 10,
   "metadata": {},
   "outputs": [
    {
     "name": "stdout",
     "output_type": "stream",
     "text": [
      "Hola Capgemini!\n"
     ]
    }
   ],
   "source": [
    "'''También se pueden hacer comentarios\n",
    "de varias líneas\n",
    "con triples comillas'''\n",
    "print(\"Hola Capgemini!\")"
   ]
  },
  {
   "cell_type": "markdown",
   "metadata": {},
   "source": [
    "## 2.1.6 Entrada y salida\n",
    "Python proporciona varias funciones para interaccionar con el usuario a través de la pantalla y teclado. Las más conocidas son input() y print() que sirven para recoger datos desde el teclado y para mostrar datos por pantalla respectivamente.\n",
    "\n",
    "También se pueden mostrar por pantalla el valor de una o varias variables."
   ]
  },
  {
   "cell_type": "code",
   "execution_count": 11,
   "metadata": {},
   "outputs": [
    {
     "name": "stdout",
     "output_type": "stream",
     "text": [
      "Hola Leticia\n"
     ]
    }
   ],
   "source": [
    "nombre = 'Leticia'\n",
    "print('Hola', nombre)"
   ]
  },
  {
   "cell_type": "markdown",
   "metadata": {},
   "source": [
    "Se pueden utilizar separadores entre diferentes valores a representar con sep y mostrar una cadena al finalizar con end"
   ]
  },
  {
   "cell_type": "code",
   "execution_count": 13,
   "metadata": {},
   "outputs": [
    {
     "name": "stdout",
     "output_type": "stream",
     "text": [
      "Leticia Antonio Felipe\n",
      "Leticia-Antonio-Felipe\n",
      "Leticia-Antonio-Felipe-Fin"
     ]
    }
   ],
   "source": [
    "nombre1, nombre2, nombre3 = 'Leticia', 'Antonio', 'Felipe'\n",
    "print(nombre1, nombre2, nombre3)\n",
    "print(nombre1, nombre2, nombre3, sep='-')\n",
    "print(nombre1, nombre2, nombre3, sep='-', end='-Fin')"
   ]
  },
  {
   "cell_type": "markdown",
   "metadata": {},
   "source": [
    "Se puede dar formato a la salida con la función format"
   ]
  },
  {
   "cell_type": "code",
   "execution_count": 14,
   "metadata": {},
   "outputs": [
    {
     "name": "stdout",
     "output_type": "stream",
     "text": [
      "La suma de 3 y 2 es 5\n"
     ]
    }
   ],
   "source": [
    "a, b = 3, 2\n",
    "print('La suma de {0} y {1} es {2}'.format(a, b, a + b))"
   ]
  },
  {
   "cell_type": "markdown",
   "metadata": {},
   "source": [
    "A partir de Python 3.6 tenemos las f strings que proporcionan una manera sencilla de representar variables y expresiones dentro de una cadena. Se representan como un literal entrecomillado precedido por f o F."
   ]
  },
  {
   "cell_type": "code",
   "execution_count": 15,
   "metadata": {},
   "outputs": [
    {
     "name": "stdout",
     "output_type": "stream",
     "text": [
      "Hola Yolanda\n",
      "La suma de 3 y 2 es 5\n"
     ]
    }
   ],
   "source": [
    "nombre = 'Yolanda'\n",
    "print(f'Hola {nombre}')\n",
    "\n",
    "a, b = 3, 2\n",
    "print(f'La suma de {a} y {b} es {a+b}')"
   ]
  },
  {
   "cell_type": "markdown",
   "metadata": {},
   "source": [
    "input() Hasta ahora, nuestro código es estático ya que el valor de las variables se definen en el código y el usuario no tiene la oportunidad de introducir valores. Con la función input() permitimos al usuario introducir valores y así hacer poder interaccionar con él."
   ]
  },
  {
   "cell_type": "code",
   "execution_count": null,
   "metadata": {},
   "outputs": [],
   "source": [
    "edad = input('¿Qué edad tienes?')\n",
    "print(f'Tienes {edad} años')"
   ]
  },
  {
   "cell_type": "markdown",
   "metadata": {},
   "source": [
    "También pueden mostrarse valores de variables en el texto del input"
   ]
  },
  {
   "cell_type": "code",
   "execution_count": null,
   "metadata": {},
   "outputs": [],
   "source": [
    "nombre = input('¿Cómo te llamas?')\n",
    "edad = input(f'¿Qué edad tienes, {nombre}?')\n",
    "print(f'Hola {nombre}. Tienes {edad} años')"
   ]
  },
  {
   "cell_type": "markdown",
   "metadata": {},
   "source": [
    "## 2.1.7 Guía de estilo - PEP 8\n",
    "Aunque no es algo obligatorio, es muy recomendable seguir una guía de estilo para programar en cualquier lenguaje. En Python, la guía de estilo utilizada es PEP 8. En el siguiente enlace podéis encontrar una guía de estilo PEP 8 completa.\n",
    "\n",
    "https://www.python.org/dev/peps/pep-0008/"
   ]
  }
 ],
 "metadata": {
  "kernelspec": {
   "display_name": "Python 3",
   "language": "python",
   "name": "python3"
  },
  "language_info": {
   "codemirror_mode": {
    "name": "ipython",
    "version": 3
   },
   "file_extension": ".py",
   "mimetype": "text/x-python",
   "name": "python",
   "nbconvert_exporter": "python",
   "pygments_lexer": "ipython3",
   "version": "3.7.6"
  }
 },
 "nbformat": 4,
 "nbformat_minor": 4
}
