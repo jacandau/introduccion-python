{
 "cells": [
  {
   "cell_type": "markdown",
   "metadata": {},
   "source": [
    "# Table of contents:\n",
    "* [2.2 Tipos básicos de datos y operadores](#first-bullet)\n",
    ">* [2.2.1 Asignar valores a variables](#second-bullet)\n",
    ">* [2.1.2 Variables y operaciones numéricas](#third-bullet)\n",
    ">* [2.2.3 Variables y operaciones con cadenas](#fourth-bullet)\n",
    ">* [2.2.4 Variables Booleanas y operadores lógicos y relacionales](#fifth-bullet)\n",
    ">* [2.2.5 Type y Castings](#sixth-bullet)\n",
    ">* [2.2.6 Tipos de datos de contenedor](#seventh-bullet)\n",
    ">>* [2.2.6.1 Listas](#eight-bullet)\n",
    ">>* [2.2.6.2 Tuplas](#nineth-bullet)\n",
    ">>* [2.2.6.3 Diccionario](#tenth-bullet)\n",
    ">>* [2.2.6.4 Conjuntos (Sets)](#eleventh-bullet)"
   ]
  },
  {
   "cell_type": "markdown",
   "metadata": {},
   "source": [
    "# 2.2 Tipos básicos de datos y operadores<a class=\"anchor\" id=\"first-bullet\"></a>\n",
    "\n",
    "Las variables son ubicaciones de memoria reservadas para almacenar valores, ya sean números o texto. Cada vez que declaramos una variable, se está reservando espacio en memoria.\n",
    "\n",
    "Los tipos de datos básicos en python3 son: https://realpython.com/python-data-types/\n",
    "\n",
    "* Numérico: enteros, flotantes y números complejos\n",
    "* Texto: cadenas\n",
    "* Lógica: booleanos\n",
    "\n",
    "## 2.2.1. Asignar valores a variables<a class=\"anchor\" id=\"second-bullet\"></a>\n",
    "\n",
    "Para asignar valores a las variables, no hace falta una declaración explícita en Python. Cuando utilizamos el signo = estamos asignando un valor a una variable. El operando a la izquierda del signo = es la variable y el operando a la derecha del signo = es el valor que será almacenado en la variable. "
   ]
  },
  {
   "cell_type": "code",
   "execution_count": 19,
   "metadata": {},
   "outputs": [],
   "source": [
    "edad = 50           # Asignación de valor a una variable de tipo entero\n",
    "peso = 60.9         # Asignación de valor a una variable de tipo punto flotante\n",
    "nombre = 'Gonzalo'  # Asignación de valor a una variable de tipo cadena\n",
    "trabajando = True   # Asignación de valor a una variable de tipo boolean"
   ]
  },
  {
   "cell_type": "markdown",
   "metadata": {},
   "source": [
    "También se pueden hacer una asignación múltiple de la siguiente manera"
   ]
  },
  {
   "cell_type": "code",
   "execution_count": 20,
   "metadata": {},
   "outputs": [],
   "source": [
    "a = b = c = 1\n"
   ]
  },
  {
   "cell_type": "markdown",
   "metadata": {},
   "source": [
    "Incluso se pueden hacer diferentes asignaciones en una misma línea"
   ]
  },
  {
   "cell_type": "code",
   "execution_count": 21,
   "metadata": {},
   "outputs": [],
   "source": [
    "nombre, apellidos, edad = 'José', 'Pulido', 40"
   ]
  },
  {
   "cell_type": "markdown",
   "metadata": {},
   "source": [
    "## 2.2.2 Variables y operaciones numéricas<a class=\"anchor\" id=\"third-bullet\"></a>\n",
    "Las variables de tipo numéricas, como su nombre indica, sirven para almacenar números. Estos números pueden ser enteros, punto flotante o número complejos, aunque estos últimos quedan fuera del alcance de este curso. \n",
    "\n",
    "Las variables numéricas son creadas al asignarle un valor y comprenden todos los números reales tanto positivos como negativos. \n",
    "\n"
   ]
  },
  {
   "cell_type": "code",
   "execution_count": 22,
   "metadata": {},
   "outputs": [],
   "source": [
    "edad = 37\n",
    "precio = -65.99"
   ]
  },
  {
   "cell_type": "markdown",
   "metadata": {},
   "source": [
    "Las **operaciones aritméticas** que se pueden hacer con variables numéricas son:\n",
    "\n",
    "| Operador | Descripción |\n",
    "| :--: | :-- |\n",
    "| **+** | sumar | \n",
    "| **-** | restar | \n",
    "| ***** | multiplicar | \n",
    "| **/** | dividir | \n",
    "| **//** | cociente de una división | \n",
    "| **%** | módulo de una división | \n",
    "| **divmod** | cociente y módulo de una división |\n",
    "| ****** | exponente | "
   ]
  },
  {
   "cell_type": "code",
   "execution_count": 23,
   "metadata": {},
   "outputs": [
    {
     "name": "stdout",
     "output_type": "stream",
     "text": [
      "La suma de 17 y 4 es 21\n",
      "La resta de 17 y 4 es 13\n",
      "La multiplicación de 17 y 4 es 68\n",
      "La división entre 17 y 4 es 4.25\n",
      "El cociente 17 y 4 es 4\n",
      "El módulo de 17 y 4 es 1\n",
      "El cociente y módulo de la división entre 17 y 4 es (4, 1)\n",
      "El cociente es 4 y el módulo es 1\n",
      "17 elevado a 4 es 83521\n"
     ]
    }
   ],
   "source": [
    "# Suma \n",
    "a, b = 17, 4\n",
    "print(f'La suma de {a} y {b} es {a + b}')\n",
    "# Resta\n",
    "print(f'La resta de {a} y {b} es {a - b}')\n",
    "# Multiplicación\n",
    "print(f'La multiplicación de {a} y {b} es {a * b}')\n",
    "# División\n",
    "print(f'La división entre {a} y {b} es {a / b}')\n",
    "# Cociente de una división\n",
    "print(f'El cociente {a} y {b} es {a // b}')\n",
    "# Módulo de una división\n",
    "print(f'El módulo de {a} y {b} es {a % b}')\n",
    "# Cociente y módulo de una división\n",
    "print(f'El cociente y módulo de la división entre {a} y {b} es {divmod(a, b)}')\n",
    "# También podríamos guardar en diferentes variables el cociente y módulo\n",
    "cociente, modulo = divmod(a, b)\n",
    "print(f'El cociente es {cociente} y el módulo es {modulo}')\n",
    "# Exponente\n",
    "print(f'{a} elevado a {b} es {a ** b}')"
   ]
  },
  {
   "cell_type": "markdown",
   "metadata": {},
   "source": [
    "**round()** redondea el número pasado como parámetro. Esta función recibe dos parámetros. \n",
    "\n",
    "Cuando pasamos un sólo parámetro a esta función, redondea al entero más próximo."
   ]
  },
  {
   "cell_type": "code",
   "execution_count": 24,
   "metadata": {},
   "outputs": [
    {
     "name": "stdout",
     "output_type": "stream",
     "text": [
      "4\n",
      "5\n"
     ]
    }
   ],
   "source": [
    "numero1 = 3.65\n",
    "numero2 = 5.22\n",
    "redondeo1 = round(numero1)\n",
    "redondeo2 = round(numero2)\n",
    "print(redondeo1)\n",
    "print(redondeo2)"
   ]
  },
  {
   "cell_type": "markdown",
   "metadata": {},
   "source": [
    "Cuando pasamos dos parámetros a la función **round()**, la función devuelve el redondeo del primer argumento con el número de decimales del segundo"
   ]
  },
  {
   "cell_type": "code",
   "execution_count": 25,
   "metadata": {},
   "outputs": [
    {
     "name": "stdout",
     "output_type": "stream",
     "text": [
      "3.65\n",
      "5.225\n"
     ]
    }
   ],
   "source": [
    "numero1 = 3.65354\n",
    "numero2 = 5.22545\n",
    "redondeo1 = round(numero1, 2)\n",
    "redondeo2 = round(numero2, 3)\n",
    "print(redondeo1)\n",
    "print(redondeo2)"
   ]
  },
  {
   "cell_type": "markdown",
   "metadata": {},
   "source": [
    "abs() devuelve el valor absoluto de un número"
   ]
  },
  {
   "cell_type": "code",
   "execution_count": 26,
   "metadata": {},
   "outputs": [
    {
     "name": "stdout",
     "output_type": "stream",
     "text": [
      "El valor absoluto de -3 es 3\n"
     ]
    }
   ],
   "source": [
    "numero = -3\n",
    "abs_numero = abs(numero)\n",
    "print(f'El valor absoluto de {numero} es {abs_numero}')"
   ]
  },
  {
   "cell_type": "markdown",
   "metadata": {},
   "source": [
    "**max()** devuelve el máximo de un conjunto de valores\n",
    "\n",
    "**min()** devuelve el mínimo de un conjunto de valores"
   ]
  },
  {
   "cell_type": "code",
   "execution_count": 27,
   "metadata": {},
   "outputs": [
    {
     "name": "stdout",
     "output_type": "stream",
     "text": [
      "El máximo valor es 8\n",
      "El mínimo valor es -3\n"
     ]
    }
   ],
   "source": [
    "numero1 = 5\n",
    "numero2 = -3\n",
    "maximo = max(1, numero1, 8, numero2)\n",
    "minimo = min(1, numero1, 8, numero2)\n",
    "print(f'El máximo valor es {maximo}')\n",
    "print(f'El mínimo valor es {minimo}')"
   ]
  },
  {
   "cell_type": "markdown",
   "metadata": {},
   "source": [
    "### Operadores matemáticos abreviados\n",
    "`a + = 1` es la abreviatura de` a = a + 1`. Lo mismo aplica al resto de operadores numéricos `-` `*` `/`"
   ]
  },
  {
   "cell_type": "code",
   "execution_count": 28,
   "metadata": {},
   "outputs": [
    {
     "name": "stdout",
     "output_type": "stream",
     "text": [
      "6\n",
      "12\n",
      "3.0\n",
      "1.0\n"
     ]
    }
   ],
   "source": [
    "a = 5\n",
    "a += 1\n",
    "print(a)\n",
    "a *= 2\n",
    "print(a)\n",
    "a /= 4\n",
    "print(a)\n",
    "a -= 2\n",
    "print(a)"
   ]
  },
  {
   "cell_type": "markdown",
   "metadata": {},
   "source": [
    "Warning : `+=` no es lo mismo que `=+`."
   ]
  },
  {
   "cell_type": "code",
   "execution_count": 29,
   "metadata": {},
   "outputs": [
    {
     "name": "stdout",
     "output_type": "stream",
     "text": [
      "With +=: 5\n",
      "With =+: 4\n"
     ]
    }
   ],
   "source": [
    "a = 1\n",
    "a += 4\n",
    "print(\"With +=:\",a)\n",
    "a =+ 4\n",
    "print(\"With =+:\",a)"
   ]
  },
  {
   "cell_type": "markdown",
   "metadata": {},
   "source": [
    "## 2.2.3 Variables y operaciones con cadenas<a class=\"anchor\" id=\"fourth-bullet\"></a>\n",
    "Las variables de **tipo cadena** son un conjunto de caracteres. \n",
    "\n",
    "Para asignar una cadena a una variable, se debe poner la cadena entre comillas simples o dobles."
   ]
  },
  {
   "cell_type": "code",
   "execution_count": 30,
   "metadata": {},
   "outputs": [
    {
     "name": "stdout",
     "output_type": "stream",
     "text": [
      "Hola Andrea\n"
     ]
    }
   ],
   "source": [
    "saludo = 'Hola'\n",
    "nombre = \"Andrea\"\n",
    "print(saludo, nombre)"
   ]
  },
  {
   "cell_type": "markdown",
   "metadata": {},
   "source": [
    "Podemos realizar las siguientes operaciones con cadenas:\n",
    "\n",
    "**Concatenar** con el operador +"
   ]
  },
  {
   "cell_type": "code",
   "execution_count": 31,
   "metadata": {},
   "outputs": [
    {
     "name": "stdout",
     "output_type": "stream",
     "text": [
      "Hola Juan\n"
     ]
    }
   ],
   "source": [
    "mensaje = 'Hola' + ' ' + 'Juan'\n",
    "print(mensaje)"
   ]
  },
  {
   "cell_type": "markdown",
   "metadata": {},
   "source": [
    "**Multiplicar** con el operador *"
   ]
  },
  {
   "cell_type": "code",
   "execution_count": 32,
   "metadata": {},
   "outputs": [
    {
     "name": "stdout",
     "output_type": "stream",
     "text": [
      "Hola Hola Hola \n"
     ]
    }
   ],
   "source": [
    "mensaje = 'Hola ' * 3\n",
    "print(mensaje)"
   ]
  },
  {
   "cell_type": "markdown",
   "metadata": {},
   "source": [
    "**Añadir** con el operador +="
   ]
  },
  {
   "cell_type": "code",
   "execution_count": 33,
   "metadata": {},
   "outputs": [
    {
     "name": "stdout",
     "output_type": "stream",
     "text": [
      "Hola Lola\n"
     ]
    }
   ],
   "source": [
    "mensaje = 'Hola'\n",
    "mensaje += ' '\n",
    "mensaje += 'Lola'\n",
    "print(mensaje)"
   ]
  },
  {
   "cell_type": "markdown",
   "metadata": {},
   "source": [
    "**len()** nos devuelve la longitud de la cadena"
   ]
  },
  {
   "cell_type": "code",
   "execution_count": 34,
   "metadata": {},
   "outputs": [
    {
     "name": "stdout",
     "output_type": "stream",
     "text": [
      "La variable mensaje tiene 9 caracteres\n"
     ]
    }
   ],
   "source": [
    "mensaje = 'Hola Lola'\n",
    "print(f'La variable mensaje tiene {len(mensaje)} caracteres')"
   ]
  },
  {
   "cell_type": "markdown",
   "metadata": {},
   "source": [
    "**find()** nos devuelve la posición de una subcadena dentro de una cadena. En caso de no encontrarla, devuelve -1"
   ]
  },
  {
   "cell_type": "code",
   "execution_count": 35,
   "metadata": {},
   "outputs": [
    {
     "name": "stdout",
     "output_type": "stream",
     "text": [
      "5\n",
      "-1\n"
     ]
    }
   ],
   "source": [
    "mensaje = 'Hola Lola'\n",
    "print(mensaje.find('Lola'))\n",
    "print(mensaje.find('Miguel'))"
   ]
  },
  {
   "cell_type": "markdown",
   "metadata": {},
   "source": [
    "**lower()** y **upper()** convierten una cadena a minúsculas o mayúsculas respectivamente. "
   ]
  },
  {
   "cell_type": "code",
   "execution_count": 36,
   "metadata": {},
   "outputs": [
    {
     "name": "stdout",
     "output_type": "stream",
     "text": [
      "hola mundo\n",
      "HOLA MUNDO\n"
     ]
    }
   ],
   "source": [
    "saludo = 'Hola Mundo'\n",
    "minusculas = saludo.lower()\n",
    "mayusculas = saludo.upper()\n",
    "print(minusculas)\n",
    "print(mayusculas)"
   ]
  },
  {
   "cell_type": "markdown",
   "metadata": {},
   "source": [
    "**replace()** nos permite reemplazar una subcadena por otra en una cadena. "
   ]
  },
  {
   "cell_type": "code",
   "execution_count": 37,
   "metadata": {},
   "outputs": [
    {
     "name": "stdout",
     "output_type": "stream",
     "text": [
      "Quiero pizza\n"
     ]
    }
   ],
   "source": [
    "mensaje = 'Quiero espinacas'\n",
    "mensaje = mensaje.replace('espinacas', 'pizza')\n",
    "print(mensaje)"
   ]
  },
  {
   "cell_type": "markdown",
   "metadata": {},
   "source": [
    "**Subcadenas**.\n",
    "Podemos obtener una subcadena de una cadena utilizando cadena\\[x:y\\] donde x indica el inicio e y el fin de la subcadena que queremos obtener. Las posiciones de los caracteres se empieza a contar desde cero. "
   ]
  },
  {
   "cell_type": "code",
   "execution_count": 38,
   "metadata": {},
   "outputs": [
    {
     "name": "stdout",
     "output_type": "stream",
     "text": [
      "mundo\n",
      "Bienvenidos\n",
      "Python\n"
     ]
    }
   ],
   "source": [
    "mensaje = 'Bienvenidos al mundo de Python'\n",
    "print(mensaje[15:20]) #Obtiene desde el carácter 15 hasta el 19\n",
    "print(mensaje[:11]) #Si no se especifica el inicio, se obtiene desde el carácter cero\n",
    "print(mensaje[24:]) #Si no se especifica el final, se obtiene hasta el último carácter"
   ]
  },
  {
   "cell_type": "markdown",
   "metadata": {},
   "source": [
    "También se pueden utilizar números negativos para obtener subcadenas, siendo -1 el último carácter de la cadena. "
   ]
  },
  {
   "cell_type": "code",
   "execution_count": 39,
   "metadata": {},
   "outputs": [
    {
     "name": "stdout",
     "output_type": "stream",
     "text": [
      "mundo\n",
      "Bienvenidos\n",
      "Python\n"
     ]
    }
   ],
   "source": [
    "mensaje = 'Bienvenidos al mundo de Python'\n",
    "print(mensaje[-15:-10]) #El -15 sería equivalente a 15 y el -10 equivalente a 20\n",
    "print(mensaje[:-19]) #El -19 sería equivalente a 11\n",
    "print(mensaje[-6:]) #El -6 sería equivalente a 24"
   ]
  },
  {
   "cell_type": "markdown",
   "metadata": {},
   "source": [
    "## 2.2.4 Variables Booleanas y operadores lógicos y relacionales<a class=\"anchor\" id=\"fifth-bullet\"></a>\n",
    "Las **variables booleanas** sólo pueden tomar dos posibles valores: **True** o **False**. Los booleanos son muy importantes para las expresiones condicionales y bucles como veremos posteriormente en el curso. \n",
    "\n",
    "En Python, cualquier tipo de variable puede considerarse booleana. Como regla general, los ceros, nulos o vacíos se consideran **False** y el resto **True**. La manera de comprobar si un tipo se considera **True** o **False** es con **bool()**.\n",
    "\n"
   ]
  },
  {
   "cell_type": "code",
   "execution_count": 40,
   "metadata": {},
   "outputs": [
    {
     "name": "stdout",
     "output_type": "stream",
     "text": [
      "False\n",
      "False\n",
      "False\n",
      "True\n",
      "True\n",
      "True\n"
     ]
    }
   ],
   "source": [
    "print(bool(0)) # False\n",
    "print(bool(0.0)) # False\n",
    "print(bool(\"\")) # False\n",
    "print(bool(3)) # True\n",
    "print(bool(2.3)) # True\n",
    "print(bool(\"Hola\")) # True"
   ]
  },
  {
   "cell_type": "markdown",
   "metadata": {},
   "source": [
    "Hay otros tipos de variables que también pueden convertirse en bool que veremos posteriormente en el curso. \n"
   ]
  },
  {
   "cell_type": "markdown",
   "metadata": {},
   "source": [
    "**Operadores lógicos**\n",
    "\n",
    "**and**: Este operador da como resultado **True** si sus dos operandos son **True**\n",
    "\n",
    "**or**: Este operador da como resultado **True** si al menos uno de sus dos operandos son **True**\n",
    "\n",
    "**not**: Este operador niega su operando, conviertiendo **True** en **False** y **False** en **True**"
   ]
  },
  {
   "cell_type": "code",
   "execution_count": 41,
   "metadata": {},
   "outputs": [
    {
     "name": "stdout",
     "output_type": "stream",
     "text": [
      "True\n",
      "False\n",
      "False\n",
      "False\n",
      "True\n",
      "True\n",
      "True\n",
      "False\n",
      "False\n",
      "True\n"
     ]
    }
   ],
   "source": [
    "print(True and True) # True\n",
    "print(True and False) # False\n",
    "print(False and True) # False\n",
    "print(False and False) # False\n",
    "print(True or True) # True\n",
    "print(True or False) # True\n",
    "print(False or True) # True\n",
    "print(False or False) # False\n",
    "print(not True) # False\n",
    "print(not False) # True"
   ]
  },
  {
   "cell_type": "markdown",
   "metadata": {},
   "source": [
    "**Operadores relacionales**\n",
    "\n",
    "Las comparaciones dan como resultado valores booleanos.\n",
    " \n",
    "| Operador | Significado |\n",
    "| -- | -- |\n",
    "| **>** | mayor que |\n",
    "| **<** | menor que |\n",
    "| **>=** | mayor o igual que |\n",
    "| **=<** | menor o igual que |\n",
    "| **==** | igual que |\n",
    "| **!=** | distinto de |"
   ]
  },
  {
   "cell_type": "code",
   "execution_count": 42,
   "metadata": {},
   "outputs": [
    {
     "name": "stdout",
     "output_type": "stream",
     "text": [
      "True\n",
      "False\n",
      "True\n",
      "True\n",
      "True\n",
      "False\n",
      "True\n"
     ]
    }
   ],
   "source": [
    "print(3 > 2) # True\n",
    "print(3 < 2) # False\n",
    "print(4 >= 2+2) # True\n",
    "print(4 <= 5+2) # True\n",
    "print('Hola' == 'Hola') # True\n",
    "print(3 == '3') # False\n",
    "print(4 != '4') # True"
   ]
  },
  {
   "cell_type": "markdown",
   "metadata": {},
   "source": [
    "## 2.2.5 Type y Castings<a class=\"anchor\" id=\"sixth-bullet\"></a>\n",
    "\n",
    "Y ahora que conocemos 3 tipos de variables (numéricas, cadenas y booleanas), ¿cómo podemos saber de qué tipo es una variable? ¿Podemos convertir un tipo de variable en otro?\n",
    "\n",
    "**type()** nos devuelve el tipo de una variable. Esto nos servirá, por ejemplo, para verificar que el dato que nos están pasando es del tipo correcto. \n"
   ]
  },
  {
   "cell_type": "code",
   "execution_count": 43,
   "metadata": {},
   "outputs": [
    {
     "name": "stdout",
     "output_type": "stream",
     "text": [
      "<class 'int'>\n",
      "<class 'float'>\n",
      "<class 'str'>\n",
      "<class 'bool'>\n"
     ]
    }
   ],
   "source": [
    "variable1 = 4\n",
    "variable2 = 4.5\n",
    "variable3 = 'Hola'\n",
    "variable4 = True\n",
    "print(type(variable1)) # int\n",
    "print(type(variable2)) # float\n",
    "print(type(variable3)) # str\n",
    "print(type(variable4)) # bool"
   ]
  },
  {
   "cell_type": "markdown",
   "metadata": {},
   "source": [
    "**is** Podemos saber si una variable es de un tipo concreto con **is**\n"
   ]
  },
  {
   "cell_type": "code",
   "execution_count": 44,
   "metadata": {},
   "outputs": [
    {
     "name": "stdout",
     "output_type": "stream",
     "text": [
      "True\n",
      "False\n",
      "True\n",
      "False\n",
      "True\n",
      "False\n",
      "True\n",
      "False\n"
     ]
    }
   ],
   "source": [
    "variable1 = 4\n",
    "variable2 = 4.5\n",
    "variable3 = 'Hola'\n",
    "variable4 = True\n",
    "print(type(variable1) is int) # True\n",
    "print(type(variable1) is float) # False\n",
    "print(type(variable2) is float) # True\n",
    "print(type(variable2) is str) # False\n",
    "print(type(variable3) is str) # True\n",
    "print(type(variable3) is bool) # False\n",
    "print(type(variable4) is bool) # True\n",
    "print(type(variable4) is int) # False"
   ]
  },
  {
   "cell_type": "markdown",
   "metadata": {},
   "source": [
    "**Casting** Hay ocasiones en las que se quiere convertir una variable de un tipo en otro tipo. De hecho, ya hemos visto un caso con **bool()**, que convertía cualquier tipo de variable en boolean. Pues a esta conversión entre un tipo y otro es a lo que llamamos **Casting**.\n",
    "\n",
    "Hasta ahora hemos visto 4 tipos de variables:\n",
    "- **int**\n",
    "- **float**\n",
    "- **strings o cadenas**\n",
    "- **booleanos**\n",
    "\n",
    "Para convertir a estos tipos de variables se utilizará:\n",
    "- **int()**\n",
    "- **float()**\n",
    "- **str()**\n",
    "- **bool()**\n",
    "\n",
    "Hay otros **casting** que pueden realizarse con otros tipos de datos que veremos más adelante en el curso. "
   ]
  },
  {
   "cell_type": "code",
   "execution_count": 45,
   "metadata": {},
   "outputs": [
    {
     "name": "stdout",
     "output_type": "stream",
     "text": [
      "0 1 1 2 3\n"
     ]
    }
   ],
   "source": [
    "v = int(False) # será un entero igual a 0\n",
    "w = int(True) # será un entero igual a 1\n",
    "x = int(1) # será un entero igual a 1\n",
    "y = int(2.8) # será un entero igual a 2\n",
    "z = int('3') # será un entero igual a 3\n",
    "print(v, w, x, y, z)"
   ]
  },
  {
   "cell_type": "code",
   "execution_count": 46,
   "metadata": {},
   "outputs": [
    {
     "name": "stdout",
     "output_type": "stream",
     "text": [
      "1.0 1.0 2.8 3.0 4.2\n"
     ]
    }
   ],
   "source": [
    "v = float(True) # será un float igual a 1.0\n",
    "w = float(1) # será un float igual a 1.0\n",
    "x = float(2.8) # será un float igual a 2.8\n",
    "y = float('3') # será un float igual a 3.0\n",
    "z = float('4.2') # será un float igual a 4.2\n",
    "print(v, w, x, y, z)"
   ]
  },
  {
   "cell_type": "code",
   "execution_count": 47,
   "metadata": {},
   "outputs": [
    {
     "name": "stdout",
     "output_type": "stream",
     "text": [
      "True Hola 2 3.0\n"
     ]
    }
   ],
   "source": [
    "w = str(True) # será una cadena True\n",
    "x = str(\"Hola\") # será una cadena 'Hola'\n",
    "y = str(2) # será una cadena '2'\n",
    "z = str(3.0) # será una cadena '3.0'\n",
    "print(w, x, y, z)"
   ]
  },
  {
   "cell_type": "code",
   "execution_count": 48,
   "metadata": {},
   "outputs": [
    {
     "name": "stdout",
     "output_type": "stream",
     "text": [
      "False False False True True True\n"
     ]
    }
   ],
   "source": [
    "u = bool(0) # False\n",
    "v = bool(0.0) # False\n",
    "w = bool(\"\") # False\n",
    "x = bool(3) # True\n",
    "y = bool(2.3) # True\n",
    "z = bool(\"Hola\") # True\n",
    "print(u, v, w, x, y, z)"
   ]
  },
  {
   "cell_type": "markdown",
   "metadata": {},
   "source": [
    "## 2.2.6 Tipos de datos de contenedor<a class=\"anchor\" id=\"seventh-bullet\"></a>\n",
    "Algunos contenedores incorporados son\n",
    "\n",
    "* Lista y tuplas\n",
    "* Establecer\n",
    "* Dict\n",
    "\n",
    "Se pueden dividir en mutables o inmutables:\n",
    "\n",
    "* Inmutables: Tuplas\n",
    "* Mutable: lista, dict y conjuntos.\n",
    "\n",
    "### 2.2.6.1 Listas<a class=\"anchor\" id=\"eight-bullet\"></a>\n",
    "Una lista de Python almacena múltiples elementos, cuyos tipos pueden ser diferentes."
   ]
  },
  {
   "cell_type": "code",
   "execution_count": 49,
   "metadata": {},
   "outputs": [
    {
     "name": "stdout",
     "output_type": "stream",
     "text": [
      "['a', 'b', 'c', 3485]\n"
     ]
    }
   ],
   "source": [
    "my_list = ['a', 'b', 'c', 3485]\n",
    "print(my_list)"
   ]
  },
  {
   "cell_type": "markdown",
   "metadata": {},
   "source": [
    "Puede acceder a un elemento en una lista con la siguiente sintaxis:\n",
    "\n",
    "> *Note* el primer elemento de una lista tiene un **índice de cero** a diferencia de otros lenguajes como Matlab"
   ]
  },
  {
   "cell_type": "code",
   "execution_count": 50,
   "metadata": {},
   "outputs": [
    {
     "name": "stdout",
     "output_type": "stream",
     "text": [
      "c\n",
      "a\n"
     ]
    }
   ],
   "source": [
    "print(my_list[2])\n",
    "print(my_list[0])"
   ]
  },
  {
   "cell_type": "markdown",
   "metadata": {},
   "source": [
    "Reasignación de elementos en una lista:"
   ]
  },
  {
   "cell_type": "code",
   "execution_count": 51,
   "metadata": {},
   "outputs": [
    {
     "name": "stdout",
     "output_type": "stream",
     "text": [
      "['Altran', 'b', 'c', 3485]\n"
     ]
    }
   ],
   "source": [
    "my_list[0] = 'Altran'\n",
    "print(my_list)"
   ]
  },
  {
   "cell_type": "markdown",
   "metadata": {},
   "source": [
    "Agregar / eliminar elementos de una lista:"
   ]
  },
  {
   "cell_type": "code",
   "execution_count": 52,
   "metadata": {},
   "outputs": [
    {
     "name": "stdout",
     "output_type": "stream",
     "text": [
      "['Altran', 'b', 'c', 3485, 'Part of Capgemini']\n",
      "['Altran', 'b', 'c', 3485]\n"
     ]
    }
   ],
   "source": [
    "my_list.append('Part of Capgemini')\n",
    "print(my_list)\n",
    "\n",
    "my_list.pop()\n",
    "print(my_list)"
   ]
  },
  {
   "cell_type": "markdown",
   "metadata": {},
   "source": [
    "Acceso a múltiples elementos en una lista:"
   ]
  },
  {
   "cell_type": "code",
   "execution_count": 53,
   "metadata": {},
   "outputs": [
    {
     "name": "stdout",
     "output_type": "stream",
     "text": [
      "['Altran', 'b']\n",
      "['c', 3485]\n",
      "['Altran', 'b']\n"
     ]
    }
   ],
   "source": [
    "print(my_list[0:2]) # Access elements in index 0, 1 and 2\n",
    "print(my_list[2:]) # Access elements from index 2 to the end\n",
    "print(my_list[:2]) # Access elements from the beginning to index 2"
   ]
  },
  {
   "cell_type": "markdown",
   "metadata": {},
   "source": [
    "### 2.2.6.2 Tuplas<a class=\"anchor\" id=\"nineth-bullet\"></a>\n",
    "Una tupla es una secuencia de objetos Python inmutables. Las tuplas son secuencias, al igual que las listas. Las diferencias entre las tuplas y las listas son que las tuplas no se pueden cambiar a diferencia de las listas y las tuplas usan paréntesis, mientras que las listas usan corchetes."
   ]
  },
  {
   "cell_type": "code",
   "execution_count": 54,
   "metadata": {},
   "outputs": [
    {
     "name": "stdout",
     "output_type": "stream",
     "text": [
      "(2, 'a')\n",
      "2\n",
      "<class 'tuple'>\n"
     ]
    }
   ],
   "source": [
    "a = (2, 'a')\n",
    "print(a)\n",
    "\n",
    "print(a[0])\n",
    "print(type(a))"
   ]
  },
  {
   "cell_type": "markdown",
   "metadata": {},
   "source": [
    "Para acceder a todas las propiedades y métodos de un objeto, use la función incorporada dir. Las propiedades del tipo \\_\\_prop\\_\\_ son conocidas como *magic properties* y son comunes a varios tipos de objeto. Las que no tienen este formato son las específicas del tipo de objeto que estamos utilizando."
   ]
  },
  {
   "cell_type": "code",
   "execution_count": 55,
   "metadata": {},
   "outputs": [
    {
     "data": {
      "text/plain": [
       "['__add__',\n",
       " '__class__',\n",
       " '__contains__',\n",
       " '__delattr__',\n",
       " '__dir__',\n",
       " '__doc__',\n",
       " '__eq__',\n",
       " '__format__',\n",
       " '__ge__',\n",
       " '__getattribute__',\n",
       " '__getitem__',\n",
       " '__getnewargs__',\n",
       " '__gt__',\n",
       " '__hash__',\n",
       " '__init__',\n",
       " '__init_subclass__',\n",
       " '__iter__',\n",
       " '__le__',\n",
       " '__len__',\n",
       " '__lt__',\n",
       " '__mul__',\n",
       " '__ne__',\n",
       " '__new__',\n",
       " '__reduce__',\n",
       " '__reduce_ex__',\n",
       " '__repr__',\n",
       " '__rmul__',\n",
       " '__setattr__',\n",
       " '__sizeof__',\n",
       " '__str__',\n",
       " '__subclasshook__',\n",
       " 'count',\n",
       " 'index']"
      ]
     },
     "execution_count": 55,
     "metadata": {},
     "output_type": "execute_result"
    }
   ],
   "source": [
    "dir(a)"
   ]
  },
  {
   "cell_type": "markdown",
   "metadata": {},
   "source": [
    "### 2.2.6.3 Diccionario<a class=\"anchor\" id=\"tenth-bullet\"></a>\n",
    "Los diccionarios contienen pares clave / valor y son útiles para almacenar información."
   ]
  },
  {
   "cell_type": "code",
   "execution_count": 56,
   "metadata": {},
   "outputs": [
    {
     "name": "stdout",
     "output_type": "stream",
     "text": [
      "{'key_one': 'Altran', 'key_two': 'Part of Capgemini'}\n"
     ]
    }
   ],
   "source": [
    "my_dict = { 'key_one': 'Altran', 'key_two': 'Part of Capgemini' }\n",
    "print(my_dict)"
   ]
  },
  {
   "cell_type": "markdown",
   "metadata": {},
   "source": [
    "Acceda a un valor de un diccionario mediante una clave:"
   ]
  },
  {
   "cell_type": "code",
   "execution_count": 57,
   "metadata": {},
   "outputs": [
    {
     "name": "stdout",
     "output_type": "stream",
     "text": [
      "Altran\n",
      "Part of Capgemini\n"
     ]
    }
   ],
   "source": [
    "print(my_dict['key_one'])\n",
    "print(my_dict['key_two'])"
   ]
  },
  {
   "cell_type": "markdown",
   "metadata": {},
   "source": [
    "Recorriendo los valores de un diccionario:\n",
    "\n",
    "*Nota* consulte las siguientes secciones a continuación para obtener información sobre los bucles."
   ]
  },
  {
   "cell_type": "code",
   "execution_count": 58,
   "metadata": {},
   "outputs": [
    {
     "name": "stdout",
     "output_type": "stream",
     "text": [
      "The key is key_one\n",
      "The key is key_two\n"
     ]
    }
   ],
   "source": [
    "for key in my_dict:\n",
    "    print(\"The key is \" + key)"
   ]
  },
  {
   "cell_type": "code",
   "execution_count": 59,
   "metadata": {},
   "outputs": [
    {
     "name": "stdout",
     "output_type": "stream",
     "text": [
      "The key is key_one, and the value is Altran\n",
      "The key is key_two, and the value is Part of Capgemini\n"
     ]
    }
   ],
   "source": [
    "for key, value in my_dict.items():\n",
    "    print(\"The key is \" + key + \", and the value is \" + value)"
   ]
  },
  {
   "cell_type": "markdown",
   "metadata": {},
   "source": [
    "### 2.2.6.4 Conjuntos (Sets)<a class=\"anchor\" id=\"eleventh-bullet\"></a>\n",
    "Los conjuntos son similares a las listas, pero solo pueden contener valores únicos."
   ]
  },
  {
   "cell_type": "code",
   "execution_count": 60,
   "metadata": {},
   "outputs": [
    {
     "name": "stdout",
     "output_type": "stream",
     "text": [
      "{'hello', 1, 2, 3}\n"
     ]
    }
   ],
   "source": [
    "my_set = {1, 2, 3, 3, 3, 3, 'hello'}\n",
    "print(my_set)"
   ]
  }
 ],
 "metadata": {
  "kernelspec": {
   "display_name": "Python 3",
   "language": "python",
   "name": "python3"
  },
  "language_info": {
   "codemirror_mode": {
    "name": "ipython",
    "version": 3
   },
   "file_extension": ".py",
   "mimetype": "text/x-python",
   "name": "python",
   "nbconvert_exporter": "python",
   "pygments_lexer": "ipython3",
   "version": "3.8.5"
  },
  "metadata": {
   "interpreter": {
    "hash": "629b434df4520847794246a16e1291eb7f6146fbcc3f4d915d5194a82548c03c"
   }
  }
 },
 "nbformat": 4,
 "nbformat_minor": 2
}
