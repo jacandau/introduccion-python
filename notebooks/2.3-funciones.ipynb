{
 "cells": [
  {
   "cell_type": "markdown",
   "metadata": {},
   "source": [
    "# 2.3 Funciones\n",
    "\n",
    "## 2.3.1 ¿Qué son las funciones?\n",
    "\n",
    "Una **función** es un bloque de código con un nombre asociadom que recibe cero o más parámetros de entrada, sigue una secuencia de sentencias que realizan una tarea y/o devuelven un valor. Las **funciones** sólo son ejecutadas cuando son llamadas y pueden ser llamadas cuantas veces se quiera. \n",
    "\n",
    "Las **ventajas de las funciones** son:\n",
    "- **Modularización**: permite segmentar un código complejo en una serie de partes o módulos más simples, facilitando la programación y haciendo que nuestro código esté más organizado. \n",
    "- **Reutilización**: permite reutilizar una función en diferentes programs, evitando tener que escribir este código una y otra vez. \n",
    "\n",
    "Una buena práctica es hacer que una **función** tenga como finalidad realizar una única acción, reutilizable y que sea lo más genérica posible. \n",
    "\n",
    "**Python** dispone de muchas funciones integradas en el lenguaje, como ya hemos podido ver durante el curso. Ejemplos de funciones integradas en el lenguaje son **print()**, **input()**, **type()**, etc... Además, **Python** permite crear funciones definidas por el usuario para poder ser usudas. \n",
    "\n",
    "## 2.3.2 Definir funciones\n",
    "\n",
    "En **Python**, la definición de funciones se realiza mediante la instrucción **def** más un nombre descriptivo, para el cual se aplican las mismas reglas que para el nombre de variables (ver apartado 2.1.1 Identificadores). \n",
    "\n",
    "La sintaxis de una función en **Python** es la siguiente:\n",
    "```\n",
    "def NOMBRE(LISTA_DE_PARAMETROS):\n",
    "    SENTENCIAS\n",
    "    return [EXPRESION]\n",
    "```\n",
    "\n",
    "- **NOMBRE** es el nombre de la función\n",
    "- **LISTA_DE_PARAMETROS** es la lista de parámetros que puede recibir la función. Una función puede no recibir parámetros\n",
    "- **SENTENCIAS** es el bloque de sentencias en código Python para realizar la tarea que queremos que realice la función\n",
    "- **return** es la setencia return en código **Python** y se utiliza para devolver un valor o valores. Una función puede no devolver ningún valor\n",
    "- **EXPRESION** es la expresión o variable que devuelve la sentencia **return**\n",
    "\n",
    "A continuación vemos como ejemplo la definición de una función. "
   ]
  },
  {
   "cell_type": "code",
   "execution_count": 7,
   "metadata": {},
   "outputs": [],
   "source": [
    "def saludar(nombre):\n",
    "    mensaje = f\"Hola {nombre}\"\n",
    "    return mensaje"
   ]
  },
  {
   "cell_type": "markdown",
   "metadata": {},
   "source": [
    "Para llamar a una función, se utiliza el nombre de la función y entre paréntesis le pasamos la lista de parámetros. \n",
    "\n",
    "Además, se le puede asignar a una variable el valor que devuelve la función con **return**."
   ]
  },
  {
   "cell_type": "code",
   "execution_count": 8,
   "metadata": {},
   "outputs": [
    {
     "name": "stdout",
     "output_type": "stream",
     "text": [
      "Hola Santiago\n"
     ]
    }
   ],
   "source": [
    "mensaje_saludo = saludar(\"Santiago\")\n",
    "print(mensaje_saludo)"
   ]
  },
  {
   "cell_type": "markdown",
   "metadata": {},
   "source": [
    "## 2.3.3 Parámetros de las funciones\n",
    "Como hemos visto en el ejemplo, una función puede recibir una lista de parámetros que es una lista de valores con los que hacer las operaciones requeridas en la función. En el ejemplo anterior, la función saludar recibía el parámetro **nombre** para poder construir una cadena de saludo. Existen varias formas de pasar valores a los parámetros de una función. \n",
    "\n",
    "### Parámetros por posición\n",
    "Por defecto, al llamar a una función, hay que pasar los valores de los parámetros en el mismo orden en el que se definieron, ya que en caso contrario, podríamos no tener el resultado deseado. \n"
   ]
  },
  {
   "cell_type": "code",
   "execution_count": 6,
   "metadata": {},
   "outputs": [
    {
     "name": "stdout",
     "output_type": "stream",
     "text": [
      "El artículo pilas tiene un precio de 3.75\n"
     ]
    }
   ],
   "source": [
    "def descripcion_articulo(nombre, precio):\n",
    "    descripcion = f'El artículo {nombre} tiene un precio de {precio}'\n",
    "    return descripcion\n",
    "\n",
    "# Para llamar a esta función hay que pasar primero el nombre del artículo y después el precio por unidad\n",
    "print(descripcion_articulo('pilas', 3.75))\n",
    "\n"
   ]
  },
  {
   "cell_type": "code",
   "execution_count": 7,
   "metadata": {},
   "outputs": [
    {
     "name": "stdout",
     "output_type": "stream",
     "text": [
      "El artículo 3.75 tiene un precio de pilas\n"
     ]
    }
   ],
   "source": [
    "# En caso de llamarlo al contrario, el resultado, como podemos ver, no es el esperado\n",
    "print(descripcion_articulo(3.75, 'pilas'))"
   ]
  },
  {
   "cell_type": "markdown",
   "metadata": {},
   "source": [
    "### Parámetros por nombre\n",
    "También podríamos pasar el valor de los parámetros con un par clave valor, en el que se indica el nombre del parámetro y el valor que tiene. De esta manera, no tendríamos que tener en cuenta la posición de los parámetros. Como vemos en el siguiente ejemplo, el resultado que obtenemos es el mismo aunque el orden en el que pasamos los parámetros sea distinto, ya que la función identifica los parámetros por el nombre, no por la posición. "
   ]
  },
  {
   "cell_type": "code",
   "execution_count": 10,
   "metadata": {},
   "outputs": [
    {
     "name": "stdout",
     "output_type": "stream",
     "text": [
      "El artículo pilas tiene un precio de 3.75\n",
      "El artículo pilas tiene un precio de 3.75\n"
     ]
    }
   ],
   "source": [
    "def descripcion_articulo(nombre, precio):\n",
    "    descripcion = f'El artículo {nombre} tiene un precio de {precio}'\n",
    "    return descripcion\n",
    "\n",
    "\n",
    "print(descripcion_articulo(nombre='pilas', precio=3.75))\n",
    "print(descripcion_articulo(precio=3.75, nombre='pilas'))"
   ]
  },
  {
   "cell_type": "markdown",
   "metadata": {},
   "source": [
    "### Parámetros con valor por defecto\n",
    "A los parámetros se le puede asignar un valor por defecto. En este caso, no es obligatorio pasar este parámetro al llamar a la función. Hay que tener en cuenta que los parámetros con valor por defecto tienen que estar al final de la lista de parámetros. "
   ]
  },
  {
   "cell_type": "code",
   "execution_count": 14,
   "metadata": {},
   "outputs": [
    {
     "name": "stdout",
     "output_type": "stream",
     "text": [
      "90.0\n"
     ]
    }
   ],
   "source": [
    "def calcular_oferta(precio, descuento=10):\n",
    "    return precio - (precio * descuento / 100)\n",
    "\n",
    "# si paso sólo un argumento, me calcula la oferta con un 10%\n",
    "print(calcular_oferta(100))\n"
   ]
  },
  {
   "cell_type": "code",
   "execution_count": 13,
   "metadata": {},
   "outputs": [
    {
     "name": "stdout",
     "output_type": "stream",
     "text": [
      "75.0\n"
     ]
    }
   ],
   "source": [
    "# si paso dos argumentos, me calcula la oferta con el porcentaje pasado\n",
    "print(calcular_oferta(100, 25))"
   ]
  },
  {
   "cell_type": "markdown",
   "metadata": {},
   "source": [
    "## 2.3.4 Return\n",
    "Como hemos visto anteriormente, una función puede devolver valores. Cuando una función no retorna ningún valor, la función está devolviendo el valor especial **None**."
   ]
  },
  {
   "cell_type": "code",
   "execution_count": 18,
   "metadata": {},
   "outputs": [
    {
     "name": "stdout",
     "output_type": "stream",
     "text": [
      "El precio calculado con la oferta es 90.0\n",
      "None\n"
     ]
    }
   ],
   "source": [
    "## Función que no devuelve nada\n",
    "def calcular_oferta(precio, descuento=10):\n",
    "    print(f'El precio calculado con la oferta es {precio - (precio * descuento / 100)}')\n",
    "\n",
    "# Aquí podemos comprobar que devuelve None, ya que la función no tiene un return\n",
    "print(calcular_oferta(100))"
   ]
  },
  {
   "cell_type": "code",
   "execution_count": 22,
   "metadata": {},
   "outputs": [
    {
     "name": "stdout",
     "output_type": "stream",
     "text": [
      "El precio calculado con la oferta es 90.0\n"
     ]
    }
   ],
   "source": [
    "## Función que devuelve un valor\n",
    "def calcular_oferta(precio, descuento=10):\n",
    "    return precio - (precio * descuento / 100)\n",
    "\n",
    "# En este caso, la función devuelve el precio en oferta\n",
    "print(f'El precio calculado con la oferta es {calcular_oferta(100)}')"
   ]
  },
  {
   "cell_type": "code",
   "execution_count": 23,
   "metadata": {},
   "outputs": [
    {
     "name": "stdout",
     "output_type": "stream",
     "text": [
      "El precio calculado con la oferta es 90.0, por lo que te ahorras 10.0\n"
     ]
    }
   ],
   "source": [
    "## Función que devuelve varios valores\n",
    "def calcular_oferta(precio, descuento=10):\n",
    "    precio_oferta = precio - (precio * descuento / 100)\n",
    "    ahorro = precio - precio_oferta\n",
    "    return precio_oferta, ahorro\n",
    "\n",
    "# En este caso, la función devuelve el precio en oferta\n",
    "precio_final, cantidad_ahorrada = calcular_oferta(100)\n",
    "print(f'El precio calculado con la oferta es {precio_final}, por lo que te ahorras {cantidad_ahorrada}')"
   ]
  },
  {
   "cell_type": "markdown",
   "metadata": {},
   "source": [
    "## 2.3.5 Scope o alcance de las variables\n",
    "El **Scope** o alcance de las variables es la porción del programa donde una variable es reconocida y puede ser utilizada. \n",
    "\n",
    "**Variables locales**: Una variable que es definida como parámetro de una función o que se define dentro de la función, no es visible desde fuera de la función y será destruida de la memoria cuando la función termine de ejecutarse. A las variables definidas dentro de una función o pasada como parámetro se les conocen como **variables locales**. Además, una función no es capaz de saber el valor de una variable local en una llamada anterior, sólo sabe el valor de esa variable local en la llamada actual. \n",
    "\n",
    "**Variables globales**: Son variables que están definidas fuera de una función, por lo que podrán ser accesibles desde cualquier función."
   ]
  },
  {
   "cell_type": "markdown",
   "metadata": {},
   "source": [
    "**Ejemplo de uso de variable global desde una función**\n",
    "\n",
    "En este caso, la variable es capaz de ver el valor de la variable global"
   ]
  },
  {
   "cell_type": "code",
   "execution_count": 27,
   "metadata": {},
   "outputs": [
    {
     "name": "stdout",
     "output_type": "stream",
     "text": [
      "El valor de la variable global antes de llamar a la función es 5\n",
      "El valor de la variable global desde la función es 5\n",
      "El valor de la variable global después de llamar a la función es 5\n"
     ]
    }
   ],
   "source": [
    "# Ejemplo de variable global. \n",
    "# En este caso, la variable es capaz de ver el valor de la variable global\n",
    "variable_global = 5\n",
    "\n",
    "def muestra_valor():\n",
    "    print(f'El valor de la variable global desde la función es {variable_global}')\n",
    "\n",
    "print(f'El valor de la variable global antes de llamar a la función es {variable_global}')\n",
    "\n",
    "muestra_valor()\n",
    "\n",
    "print(f'El valor de la variable global después de llamar a la función es {variable_global}')\n"
   ]
  },
  {
   "cell_type": "markdown",
   "metadata": {},
   "source": [
    "**Ejemplo de modificación de variable global desde una función**\n",
    "\n",
    "Si intentamos cambiar el valor de la variable dentro de la función, obtendremos un error"
   ]
  },
  {
   "cell_type": "code",
   "execution_count": 28,
   "metadata": {},
   "outputs": [
    {
     "name": "stdout",
     "output_type": "stream",
     "text": [
      "El valor de la variable global antes de llamar a la función es 5\n"
     ]
    },
    {
     "ename": "UnboundLocalError",
     "evalue": "local variable 'variable_global' referenced before assignment",
     "output_type": "error",
     "traceback": [
      "\u001b[1;31m---------------------------------------------------------------------------\u001b[0m",
      "\u001b[1;31mUnboundLocalError\u001b[0m                         Traceback (most recent call last)",
      "\u001b[1;32m<ipython-input-28-bb6fa351f85f>\u001b[0m in \u001b[0;36m<module>\u001b[1;34m\u001b[0m\n\u001b[0;32m      9\u001b[0m \u001b[0mprint\u001b[0m\u001b[1;33m(\u001b[0m\u001b[1;34mf'El valor de la variable global antes de llamar a la función es {variable_global}'\u001b[0m\u001b[1;33m)\u001b[0m\u001b[1;33m\u001b[0m\u001b[1;33m\u001b[0m\u001b[0m\n\u001b[0;32m     10\u001b[0m \u001b[1;33m\u001b[0m\u001b[0m\n\u001b[1;32m---> 11\u001b[1;33m \u001b[0mmuestra_valor\u001b[0m\u001b[1;33m(\u001b[0m\u001b[1;33m)\u001b[0m\u001b[1;33m\u001b[0m\u001b[1;33m\u001b[0m\u001b[0m\n\u001b[0m\u001b[0;32m     12\u001b[0m \u001b[1;33m\u001b[0m\u001b[0m\n\u001b[0;32m     13\u001b[0m \u001b[0mprint\u001b[0m\u001b[1;33m(\u001b[0m\u001b[1;34mf'El valor de la variable global después de llamar a la función es {variable_global}'\u001b[0m\u001b[1;33m)\u001b[0m\u001b[1;33m\u001b[0m\u001b[1;33m\u001b[0m\u001b[0m\n",
      "\u001b[1;32m<ipython-input-28-bb6fa351f85f>\u001b[0m in \u001b[0;36mmuestra_valor\u001b[1;34m()\u001b[0m\n\u001b[0;32m      4\u001b[0m \u001b[1;33m\u001b[0m\u001b[0m\n\u001b[0;32m      5\u001b[0m \u001b[1;32mdef\u001b[0m \u001b[0mmuestra_valor\u001b[0m\u001b[1;33m(\u001b[0m\u001b[1;33m)\u001b[0m\u001b[1;33m:\u001b[0m\u001b[1;33m\u001b[0m\u001b[1;33m\u001b[0m\u001b[0m\n\u001b[1;32m----> 6\u001b[1;33m     \u001b[0mvariable_global\u001b[0m \u001b[1;33m=\u001b[0m \u001b[0mvariable_global\u001b[0m \u001b[1;33m+\u001b[0m \u001b[1;36m3\u001b[0m\u001b[1;33m\u001b[0m\u001b[1;33m\u001b[0m\u001b[0m\n\u001b[0m\u001b[0;32m      7\u001b[0m     \u001b[0mprint\u001b[0m\u001b[1;33m(\u001b[0m\u001b[1;34mf'El valor de la variable global desde la función es {variable_global}'\u001b[0m\u001b[1;33m)\u001b[0m\u001b[1;33m\u001b[0m\u001b[1;33m\u001b[0m\u001b[0m\n\u001b[0;32m      8\u001b[0m \u001b[1;33m\u001b[0m\u001b[0m\n",
      "\u001b[1;31mUnboundLocalError\u001b[0m: local variable 'variable_global' referenced before assignment"
     ]
    }
   ],
   "source": [
    "# Ejemplo de variable global. \n",
    "# Si intentamos cambiar el valor de la variable dentro de la función, obtendremos un error\n",
    "variable_global = 5\n",
    "\n",
    "def muestra_valor():\n",
    "    variable_global = variable_global + 3\n",
    "    print(f'El valor de la variable global desde la función es {variable_global}')\n",
    "\n",
    "print(f'El valor de la variable global antes de llamar a la función es {variable_global}')\n",
    "\n",
    "muestra_valor()\n",
    "\n",
    "print(f'El valor de la variable global después de llamar a la función es {variable_global}')"
   ]
  },
  {
   "cell_type": "markdown",
   "metadata": {},
   "source": [
    "**Ejemplo de modificación de variable global desde una función con global**\n",
    "\n",
    "Si intentamos cambiar el valor de la variable dentro de la función declarándola como global, podremos modificar su valor sin problemas. El valor al que ha cambiado la variable se mantendrá fuera de la función una vez que esta haya sido llamada. "
   ]
  },
  {
   "cell_type": "code",
   "execution_count": 30,
   "metadata": {},
   "outputs": [
    {
     "name": "stdout",
     "output_type": "stream",
     "text": [
      "El valor de la variable global antes de llamar a la función es 5\n",
      "El valor de la variable global desde la función es 8\n",
      "El valor de la variable global después de llamar a la función es 8\n"
     ]
    }
   ],
   "source": [
    "# Ejemplo de variable global. \n",
    "# Si queremos poder cambiar la variable global en la función, tendremos que utilizar global\n",
    "variable_global = 5\n",
    "\n",
    "def muestra_valor():\n",
    "    global variable_global\n",
    "    variable_global = variable_global + 3\n",
    "    print(f'El valor de la variable global desde la función es {variable_global}')\n",
    "\n",
    "print(f'El valor de la variable global antes de llamar a la función es {variable_global}')\n",
    "\n",
    "muestra_valor()\n",
    "\n",
    "print(f'El valor de la variable global después de llamar a la función es {variable_global}')"
   ]
  },
  {
   "cell_type": "markdown",
   "metadata": {},
   "source": [
    "**Ejemplo de variable local y global con el mismo nombre**\n",
    "\n",
    "Podemos definir una variable local y otra global con el mismo nombre. Estas dos varibles serán diferentes y no tendrán nada que ver una con otra.\n",
    "\n",
    "Aquí no tendremos un error, ya que dentro de la función estamos declarando la variable local al estar inicializándola. \n",
    "\n",
    "Además, podemos comprobar que después de llamar a la función, la variable global sigue teniendo el mismo valor. "
   ]
  },
  {
   "cell_type": "code",
   "execution_count": 33,
   "metadata": {},
   "outputs": [
    {
     "name": "stdout",
     "output_type": "stream",
     "text": [
      "El valor de la variable antes de llamar a la función es 5\n",
      "El valor de la variable desde la función es 8\n",
      "El valor de la variable después de llamar a la función es 5\n"
     ]
    }
   ],
   "source": [
    "# Ejemplo de variable local y global con el mismo nombre\n",
    "variable = 5\n",
    "\n",
    "def muestra_valor():\n",
    "    variable = 8\n",
    "    print(f'El valor de la variable desde la función es {variable}')\n",
    "\n",
    "print(f'El valor de la variable antes de llamar a la función es {variable}')\n",
    "\n",
    "muestra_valor()\n",
    "\n",
    "print(f'El valor de la variable después de llamar a la función es {variable}')"
   ]
  },
  {
   "cell_type": "markdown",
   "metadata": {},
   "source": [
    "**Ejemplo de variable local**\n",
    "\n",
    "Creamos una variable local en la función"
   ]
  },
  {
   "cell_type": "code",
   "execution_count": 31,
   "metadata": {},
   "outputs": [
    {
     "name": "stdout",
     "output_type": "stream",
     "text": [
      "El valor de la variable local de la función es 4\n"
     ]
    }
   ],
   "source": [
    "# Ejemplo de variable local. \n",
    "\n",
    "def muestra_valor():\n",
    "    variable_local = 4\n",
    "\n",
    "    print(f'El valor de la variable local de la función es {variable_local}')\n",
    "\n",
    "muestra_valor()"
   ]
  },
  {
   "cell_type": "markdown",
   "metadata": {},
   "source": [
    "**Ejemplo de acceso a variable local fuera de la función**\n",
    "\n",
    "Si intentamos acceder a una varible local desde fuera de la función, obtendremos un error. "
   ]
  },
  {
   "cell_type": "code",
   "execution_count": 32,
   "metadata": {},
   "outputs": [
    {
     "name": "stdout",
     "output_type": "stream",
     "text": [
      "El valor de la variable local de la función es 4\n"
     ]
    },
    {
     "ename": "NameError",
     "evalue": "name 'variable_local' is not defined",
     "output_type": "error",
     "traceback": [
      "\u001b[1;31m---------------------------------------------------------------------------\u001b[0m",
      "\u001b[1;31mNameError\u001b[0m                                 Traceback (most recent call last)",
      "\u001b[1;32m<ipython-input-32-872f8b125df9>\u001b[0m in \u001b[0;36m<module>\u001b[1;34m\u001b[0m\n\u001b[0;32m      8\u001b[0m \u001b[0mmuestra_valor\u001b[0m\u001b[1;33m(\u001b[0m\u001b[1;33m)\u001b[0m\u001b[1;33m\u001b[0m\u001b[1;33m\u001b[0m\u001b[0m\n\u001b[0;32m      9\u001b[0m \u001b[1;33m\u001b[0m\u001b[0m\n\u001b[1;32m---> 10\u001b[1;33m \u001b[0mprint\u001b[0m\u001b[1;33m(\u001b[0m\u001b[0mvariable_local\u001b[0m\u001b[1;33m)\u001b[0m\u001b[1;33m\u001b[0m\u001b[1;33m\u001b[0m\u001b[0m\n\u001b[0m",
      "\u001b[1;31mNameError\u001b[0m: name 'variable_local' is not defined"
     ]
    }
   ],
   "source": [
    "# Ejemplo de acceso a variable local fuera de la función\n",
    "\n",
    "def muestra_valor():\n",
    "    variable_local = 4\n",
    "\n",
    "    print(f'El valor de la variable local de la función es {variable_local}')\n",
    "\n",
    "muestra_valor()\n",
    "\n",
    "print(variable_local)"
   ]
  },
  {
   "cell_type": "markdown",
   "metadata": {},
   "source": [
    "Aunque hay veces que puede venir bien, el **uso de variables globales NO está recomendado**. Siempre que sea posible, hay que utilizar variables locales a funciones. \n",
    "\n",
    "El motivo es que al ir creciendo el código de un programa, el uso de variables globales hará que sea más difícil de trazar y depurar a la hora de tener errores, ya que es más complicado saber cuántas funciones han modificado una variable global.  "
   ]
  },
  {
   "cell_type": "markdown",
   "metadata": {},
   "source": [
    "## 2.3.6 Bucles\n",
    "Iterar sobre objetos iterables, como cadenas, matrices, rango, lista, tuplas, conjuntos, dictados.\n",
    "### While\n",
    "Mientras que los bucles se ejecutan hasta que se alcanza una condición de salida."
   ]
  },
  {
   "cell_type": "code",
   "execution_count": 1,
   "metadata": {},
   "outputs": [
    {
     "name": "stdout",
     "output_type": "stream",
     "text": [
      "You have counted to 0\n",
      "You have counted to 1\n",
      "You have counted to 2\n",
      "You have counted to 3\n",
      "You have counted to 4\n",
      "You have counted to 5\n",
      "You have counted to 6\n",
      "You have counted to 7\n",
      "You have counted to 8\n",
      "You have counted to 9\n",
      "You're finished counting.\n"
     ]
    }
   ],
   "source": [
    "counter = 0\n",
    "while (counter < 10): # this is the exit condition\n",
    "    print(\"You have counted to\", counter)\n",
    "    counter = counter + 1 # Increment the counter\n",
    "    \n",
    "print(\"You're finished counting.\")"
   ]
  },
  {
   "cell_type": "markdown",
   "metadata": {},
   "source": [
    "### For\n",
    "Recorrer una lista:"
   ]
  },
  {
   "cell_type": "code",
   "execution_count": 2,
   "metadata": {},
   "outputs": [
    {
     "name": "stdout",
     "output_type": "stream",
     "text": [
      "cats are cool\n",
      "dogs are cool\n",
      "lions are cool\n",
      "bears are cool\n"
     ]
    }
   ],
   "source": [
    "cool_animals = ['cat', 'dog', 'lion', 'bear']\n",
    "for animal in cool_animals:\n",
    "    print(animal + \"s are cool\")"
   ]
  },
  {
   "cell_type": "markdown",
   "metadata": {},
   "source": [
    "Loop un dict:"
   ]
  },
  {
   "cell_type": "code",
   "execution_count": 4,
   "metadata": {},
   "outputs": [
    {
     "name": "stdout",
     "output_type": "stream",
     "text": [
      "The dog says bark!\n",
      "The cat says meow!\n",
      "The pig says oink!\n"
     ]
    }
   ],
   "source": [
    "animal_sounds = {\n",
    "    'dog': 'bark',\n",
    "    'cat': 'meow',\n",
    "    'pig': 'oink'\n",
    "}\n",
    "\n",
    "for animal, sound in animal_sounds.items():\n",
    "    print(\"The \" + animal + \" says \" + sound + \"!\")"
   ]
  },
  {
   "cell_type": "markdown",
   "metadata": {},
   "source": [
    "### Lista / comprensión dict\n",
    "Otra sintaxis para usar for-loops en python se llama comprensión de lista. Son mucho más legible y ampliamente utilizado.\n",
    "\n",
    "Este sintax devuelve una lista."
   ]
  },
  {
   "cell_type": "code",
   "execution_count": 6,
   "metadata": {},
   "outputs": [
    {
     "name": "stdout",
     "output_type": "stream",
     "text": [
      "['cats are cool', 'dogs are cool', 'lions are cool', 'bears are cool']\n"
     ]
    }
   ],
   "source": [
    "cool_animals = ['cat', 'dog', 'lion', 'bear']\n",
    "text = [animal + \"s are cool\" for animal in cool_animals]\n",
    "print(text)"
   ]
  }
 ],
 "metadata": {
  "kernelspec": {
   "display_name": "Python 3",
   "language": "python",
   "name": "python3"
  },
  "language_info": {
   "codemirror_mode": {
    "name": "ipython",
    "version": 3
   },
   "file_extension": ".py",
   "mimetype": "text/x-python",
   "name": "python",
   "nbconvert_exporter": "python",
   "pygments_lexer": "ipython3",
   "version": "3.8.5"
  },
  "metadata": {
   "interpreter": {
    "hash": "57baa5815c940fdaff4d14510622de9616cae602444507ba5d0b6727c008cbd6"
   }
  }
 },
 "nbformat": 4,
 "nbformat_minor": 2
}
